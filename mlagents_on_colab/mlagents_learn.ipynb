{
  "cells": [
    {
      "cell_type": "markdown",
      "metadata": {
        "id": "rvmVD840lP0a",
        "colab_type": "text"
      },
      "source": [
        "# ファイルをGoogleドライブにアップロード/ダウンロードする場合"
      ]
    },
    {
      "cell_type": "markdown",
      "metadata": {
        "id": "3TkJsrWiaRTj",
        "colab_type": "text"
      },
      "source": [
        "学習準備"
      ]
    },
    {
      "cell_type": "code",
      "metadata": {
        "id": "Ep3zTClLrCFK",
        "colab_type": "code",
        "colab": {}
      },
      "source": [
        "# Googleドライブをマウント\n",
        "from google.colab import drive\n",
        "drive.mount('/content/drive')\n",
        "\n",
        "# アプリケーションを解凍\n",
        "!unzip -q /content/drive/My\\ Drive/techblog/App.zip -d .\n",
        "\n",
        "# ml-agents Pythonパッケージをインストール\n",
        "!pip -q install \"git+git://github.com/Unity-Technologies/ml-agents.git@release_2_branch#subdirectory=ml-agents\"\n",
        "\n",
        "# !git clone --branch release_2_branch https://github.com/Unity-Technologies/ml-agents.git\n",
        "# 用があるのは学習設定ファイルだけなので、wgetコマンドでgithub上に置いてある学習設定ファイルを直接ダウンロード\n",
        "!wget -q -P config https://raw.githubusercontent.com/Unity-Technologies/ml-agents/release_2_branch/config/trainer_config.yaml"
      ],
      "execution_count": 0,
      "outputs": []
    },
    {
      "cell_type": "markdown",
      "metadata": {
        "id": "ZWNv0aOFai3Q",
        "colab_type": "text"
      },
      "source": [
        "学習実行"
      ]
    },
    {
      "cell_type": "code",
      "metadata": {
        "id": "X1zT60IcOmP4",
        "colab_type": "code",
        "colab": {}
      },
      "source": [
        "# 学習実行\n",
        "!mlagents-learn config/trainer_config.yaml --env=App/PushBlock --run-id=firstPushBlockRun\n",
        "\n",
        "# 学習したモデルをGoogleドライブへコピー\n",
        "!cp -a models/firstPushBlockRun/PushBlock.nn /content/drive/My\\ Drive/techblog/PushBlock_`date \"+%Y%m%d_%H%M%S\"`.nn"
      ],
      "execution_count": 0,
      "outputs": []
    },
    {
      "cell_type": "markdown",
      "metadata": {
        "id": "51UpN3sDlhi0",
        "colab_type": "text"
      },
      "source": [
        "# 直接ファイルをアップロード/ダウンロードする場合"
      ]
    },
    {
      "cell_type": "markdown",
      "metadata": {
        "id": "m3Zs9hERlwZ9",
        "colab_type": "text"
      },
      "source": [
        "学習準備"
      ]
    },
    {
      "cell_type": "code",
      "metadata": {
        "id": "UXeTU1BwlfPN",
        "colab_type": "code",
        "colab": {}
      },
      "source": [
        "# アプリケーションをアップロード\n",
        "from google.colab import files\n",
        "files.upload()\n",
        "\n",
        "# アプリケーションを解凍\n",
        "!unzip -q App.zip -d .\n",
        "\n",
        "# ml-agents Pythonパッケージをインストール\n",
        "# 公式通りにインストールしようとすると怒られるため、サブディレクトリ機能を使って強引にインストール\n",
        "!pip -q install \"git+git://github.com/Unity-Technologies/ml-agents.git@release_2_branch#subdirectory=ml-agents\"\n",
        "\n",
        "# !git clone --branch release_2_branch https://github.com/Unity-Technologies/ml-agents.git\n",
        "# 用があるのは学習設定ファイルだけなので、wgetコマンドでgithub上に置いてある学習設定ファイルを直接ダウンロード\n",
        "!wget -q -P config https://raw.githubusercontent.com/Unity-Technologies/ml-agents/release_2_branch/config/trainer_config.yaml"
      ],
      "execution_count": 0,
      "outputs": []
    },
    {
      "cell_type": "markdown",
      "metadata": {
        "id": "t8VQofDUnoc7",
        "colab_type": "text"
      },
      "source": [
        "学習実行"
      ]
    },
    {
      "cell_type": "code",
      "metadata": {
        "id": "OyBVnQBEnr0Q",
        "colab_type": "code",
        "colab": {}
      },
      "source": [
        "# 学習実行\n",
        "!mlagents-learn config/trainer_config.yaml --env=App/PushBlock --run-id=firstPushBlockRun\n",
        "\n",
        "# 学習したモデルをダウンロード\n",
        "files.download(\"models/firstPushBlockRun/PushBlock.nn\")"
      ],
      "execution_count": 0,
      "outputs": []
    }
  ],
  "metadata": {
    "colab": {
      "name": "mlagents-learn.ipynb",
      "provenance": [],
      "private_outputs": true,
      "collapsed_sections": [
        "51UpN3sDlhi0"
      ]
    },
    "kernelspec": {
      "name": "python3",
      "display_name": "Python 3"
    },
    "accelerator": "GPU"
  },
  "nbformat": 4,
  "nbformat_minor": 0
}