{
  "cells": [
    {
      "cell_type": "markdown",
      "metadata": {
        "id": "6MxBXsW_sCRl",
        "colab_type": "text"
      },
      "source": [
        "# ファイルをGoogleドライブにアップロード/ダウンロードする場合"
      ]
    },
    {
      "cell_type": "markdown",
      "metadata": {
        "id": "eyOkChGuTi0I",
        "colab_type": "text"
      },
      "source": [
        "学習準備"
      ]
    },
    {
      "cell_type": "code",
      "metadata": {
        "id": "yk0ER5UQQaKe",
        "colab_type": "code",
        "colab": {}
      },
      "source": [
        "# googleドライブをマウント\n",
        "from google.colab import drive\n",
        "drive.mount('/content/drive')\n",
        "\n",
        "# アプリケーションをコピー\n",
        "!unzip -q /content/drive/My\\ Drive/techblog/App.zip -d .\n",
        "\n",
        "# baselines@tf2の準備\n",
        "# gymでエラーが出ますが無視してOKです\n",
        "!pip -q install git+git://github.com/openai/baselines.git@tf2\n",
        "\n",
        "# ml-agentsの準備\n",
        "# 公式通りにインストールしようとすると怒られるため、サブディレクトリ機能を使って強引にインストール\n",
        "!pip -q install \"git+git://github.com/Unity-Technologies/ml-agents.git@release_2_branch#subdirectory=ml-agents\"\n",
        "!pip -q install \"git+git://github.com/Unity-Technologies/ml-agents.git@release_2_branch#subdirectory=ml-agents-envs\"\n",
        "!pip -q install \"git+git://github.com/Unity-Technologies/ml-agents.git@release_2_branch#subdirectory=gym-unity\""
      ],
      "execution_count": 0,
      "outputs": []
    },
    {
      "cell_type": "markdown",
      "metadata": {
        "id": "lNxZFmATTl1V",
        "colab_type": "text"
      },
      "source": [
        "学習実行"
      ]
    },
    {
      "cell_type": "code",
      "metadata": {
        "id": "0FGrzpwsYStX",
        "colab_type": "code",
        "colab": {}
      },
      "source": [
        "import tensorflow as tf\n",
        "\n",
        "from baselines import deepq\n",
        "from baselines import logger\n",
        "\n",
        "from mlagents_envs.environment import UnityEnvironment\n",
        "from gym_unity.envs import UnityToGymWrapper\n",
        "from mlagents_envs.side_channel.engine_configuration_channel import EngineConfigurationChannel\n",
        "\n",
        "def main():\n",
        "    engine_configuration_channel = EngineConfigurationChannel()\n",
        "    # 時間スケールを20倍に設定\n",
        "    engine_configuration_channel.set_configuration_parameters(time_scale=20.0)\n",
        "    unity_env = UnityEnvironment(\"./App/PushBlock\", side_channels=[engine_configuration_channel])\n",
        "    env = UnityToGymWrapper(unity_env, 0, flatten_branched=True)\n",
        "    logger.configure('./logs')\n",
        "    model = deepq.learn(\n",
        "        env,\n",
        "        \"mlp\",\n",
        "        seed=0,\n",
        "        lr=2.5e-4,\n",
        "        total_timesteps=400000,\n",
        "        buffer_size=50000,\n",
        "        exploration_fraction=0.05,\n",
        "        exploration_final_eps=0.1,\n",
        "        print_freq=20,\n",
        "        train_freq=5,\n",
        "        learning_starts=20000,\n",
        "        target_network_update_freq=50,\n",
        "        gamma=0.99,\n",
        "        prioritized_replay=False,\n",
        "        checkpoint_freq=1000,\n",
        "        checkpoint_path=None,\n",
        "        dueling=True\n",
        "    )\n",
        "\n",
        "    # モデルを保存\n",
        "    save_path = \"./model\"\n",
        "    ckpt = tf.train.Checkpoint(model=model)\n",
        "    manager = tf.train.CheckpointManager(ckpt, save_path, max_to_keep=10)\n",
        "    manager.save()\n",
        "    # ファイル名に日付を付ける\n",
        "    import datetime\n",
        "    filename = 'PushBlock_' + datetime.datetime.now().strftime('%Y%m%d_%H%M%S') + '.zip'\n",
        "    # 学習したモデルをzip圧縮\n",
        "    !zip -r $filename model\n",
        "    # 学習したモデルをGoogleドライブへコピー\n",
        "    !cp -a $filename /content/drive/My\\ Drive/techblog/$filename\n",
        "\n",
        "if __name__ == '__main__':\n",
        "    main()\n"
      ],
      "execution_count": 0,
      "outputs": []
    },
    {
      "cell_type": "markdown",
      "metadata": {
        "id": "OmSGmgZisHCz",
        "colab_type": "text"
      },
      "source": [
        "# ファイルを直接アップロード/ダウンロードする場合"
      ]
    },
    {
      "cell_type": "code",
      "metadata": {
        "colab_type": "code",
        "id": "_qlZBfXrsMcN",
        "colab": {}
      },
      "source": [
        "# アプリケーションをアップロード\n",
        "from google.colab import files\n",
        "files.upload()\n",
        "\n",
        "# アプリケーションを解凍\n",
        "!unzip -q App.zip -d .\n",
        "\n",
        "# baselines@tf2の準備\n",
        "!pip -q install git+git://github.com/openai/baselines.git@tf2\n",
        "\n",
        "# ml-agentsの準備\n",
        "# 公式通りにインストールしようとすると怒られるため、サブディレクトリ機能を使って強引にインストール\n",
        "!pip -q install \"git+git://github.com/Unity-Technologies/ml-agents.git@release_2_branch#subdirectory=ml-agents\"\n",
        "!pip -q install \"git+git://github.com/Unity-Technologies/ml-agents.git@release_2_branch#subdirectory=ml-agents-envs\"\n",
        "!pip -q install \"git+git://github.com/Unity-Technologies/ml-agents.git@release_2_branch#subdirectory=gym-unity\""
      ],
      "execution_count": 0,
      "outputs": []
    },
    {
      "cell_type": "code",
      "metadata": {
        "colab_type": "code",
        "id": "ll0_XjdxsPYF",
        "colab": {}
      },
      "source": [
        "import tensorflow as tf\n",
        "\n",
        "from baselines import deepq\n",
        "from baselines import logger\n",
        "\n",
        "from mlagents_envs.environment import UnityEnvironment\n",
        "from gym_unity.envs import UnityToGymWrapper\n",
        "\n",
        "def main():\n",
        "    engine_configuration_channel = EngineConfigurationChannel()\n",
        "    # 時間スケールを20倍に設定\n",
        "    engine_configuration_channel.set_configuration_parameters(time_scale=20.0)\n",
        "    unity_env = UnityEnvironment(\"./App/PushBlock\", side_channels=[engine_configuration_channel])\n",
        "    env = UnityToGymWrapper(unity_env, 0, flatten_branched=True)\n",
        "    logger.configure('./logs')\n",
        "    model = deepq.learn(\n",
        "        env,\n",
        "        \"mlp\",\n",
        "        lr=2.5e-4,\n",
        "        total_timesteps=400000,\n",
        "        buffer_size=50000,\n",
        "        exploration_fraction=0.05,\n",
        "        exploration_final_eps=0.1,\n",
        "        print_freq=20,\n",
        "        train_freq=5,\n",
        "        learning_starts=20000,\n",
        "        target_network_update_freq=50,\n",
        "        gamma=0.99,\n",
        "        prioritized_replay=False,\n",
        "        checkpoint_freq=1000,\n",
        "        checkpoint_path=None,\n",
        "        dueling=True\n",
        "    )\n",
        "\n",
        "    # モデルを保存\n",
        "    save_path = \"./model\"\n",
        "    ckpt = tf.train.Checkpoint(model=model)\n",
        "    manager = tf.train.CheckpointManager(ckpt, save_path, max_to_keep=10)\n",
        "    manager.save()\n",
        "    # ファイル名に日付を付ける\n",
        "    import datetime\n",
        "    filename = 'PushBlock_' + datetime.datetime.now().strftime('%Y%m%d_%H%M%S') + '.zip'\n",
        "    # 学習したモデルをzip圧縮\n",
        "    !zip -r $filename model\n",
        "    # 学習したモデルをダウンロード\n",
        "    from google.colab import files\n",
        "    files.download(filename)\n",
        "\n",
        "if __name__ == '__main__':\n",
        "    main()\n",
        "\n",
        "# バッシュコマンドを使い、zip化してGoogleドライブへコピー\n",
        "%%bash\n",
        "# ファイル名に日時を付ける\n",
        "filename=PushBlock_`date \"+%Y%m%d_%H%M%S\"`.zip\n",
        "# 学習したモデルをzip圧縮\n",
        "zip -r $filename model"
      ],
      "execution_count": 0,
      "outputs": []
    }
  ],
  "metadata": {
    "colab": {
      "name": "gym_unity.ipynb",
      "provenance": [],
      "private_outputs": true,
      "collapsed_sections": [
        "OmSGmgZisHCz"
      ]
    },
    "kernelspec": {
      "name": "python3",
      "display_name": "Python 3"
    },
    "accelerator": "GPU"
  },
  "nbformat": 4,
  "nbformat_minor": 0
}